{
 "cells": [
  {
   "cell_type": "markdown",
   "metadata": {},
   "source": [
    "# ACES P3"
   ]
  },
  {
   "cell_type": "markdown",
   "metadata": {},
   "source": [
    "## default config"
   ]
  },
  {
   "cell_type": "code",
   "execution_count": null,
   "metadata": {},
   "outputs": [],
   "source": [
    "from aces.environement.p3.aces_p3 import ACES_p3\n",
    "from dataclasses import dataclass, field\n",
    "from typing import Optional\n",
    "from aces.environement.p3.config_class import AcesArguments,LLMArguments\n",
    "\n"
   ]
  },
  {
   "cell_type": "markdown",
   "metadata": {},
   "source": [
    "## local mode with vllm backend for fast inference"
   ]
  },
  {
   "cell_type": "code",
   "execution_count": null,
   "metadata": {},
   "outputs": [],
   "source": [
    "\n",
    "# parser = HfArgumentParser((AcesArguments,LLMArguments))\n",
    "# aces_args, llm_args = parser.parse_args_into_dataclasses()\n",
    "model_name_or_path = \"/home/flowers/work/hf/Qwen2.5-0.5B-Instruct\" # path model or HF model id (e.g: Qwen/Qwen2.5-0.5B-Instruct)\n",
    "path_save = \"/home/flowers/work/aces/save_data/\"\n",
    "name_experience = \"aces_P3_expe\"\n",
    "aces_args = AcesArguments(path_save=path_save, name_experience=name_experience) \n",
    "llm_args = LLMArguments(model_name_or_path=model_name_or_path)\n",
    "print(\"args:\")\n",
    "print(aces_args)\n",
    "print(llm_args)\n",
    "aces= ACES_p3(aces_args, llm_args)\n",
    "aces.run()"
   ]
  },
  {
   "cell_type": "code",
   "execution_count": null,
   "metadata": {},
   "outputs": [],
   "source": []
  }
 ],
 "metadata": {
  "kernelspec": {
   "display_name": "aces",
   "language": "python",
   "name": "python3"
  },
  "language_info": {
   "codemirror_mode": {
    "name": "ipython",
    "version": 3
   },
   "file_extension": ".py",
   "mimetype": "text/x-python",
   "name": "python",
   "nbconvert_exporter": "python",
   "pygments_lexer": "ipython3",
   "version": "3.11.10"
  }
 },
 "nbformat": 4,
 "nbformat_minor": 2
}
